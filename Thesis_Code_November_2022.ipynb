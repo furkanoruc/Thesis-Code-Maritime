{
  "nbformat": 4,
  "nbformat_minor": 0,
  "metadata": {
    "colab": {
      "provenance": [],
      "authorship_tag": "ABX9TyNdRjtaTQgw2hjvxpS+kW3R",
      "include_colab_link": true
    },
    "kernelspec": {
      "name": "python3",
      "display_name": "Python 3"
    },
    "language_info": {
      "name": "python"
    }
  },
  "cells": [
    {
      "cell_type": "markdown",
      "metadata": {
        "id": "view-in-github",
        "colab_type": "text"
      },
      "source": [
        "<a href=\"https://colab.research.google.com/github/furkanoruc/Thesis-Code-Maritime/blob/main/Thesis_Code_November_2022.ipynb\" target=\"_parent\"><img src=\"https://colab.research.google.com/assets/colab-badge.svg\" alt=\"Open In Colab\"/></a>"
      ]
    },
    {
      "cell_type": "code",
      "execution_count": null,
      "metadata": {
        "id": "qGXgZnIo22CZ"
      },
      "outputs": [],
      "source": [
        "#libs\n",
        "import numpy as np \n",
        "import seaborn as sns\n",
        "import numpy as np \n",
        "import pandas as pd \n",
        "import matplotlib.pyplot as plt\n",
        "import os\n",
        "import sys\n",
        "import glob"
      ]
    },
    {
      "cell_type": "code",
      "source": [
        "#Encounter Dataset\n",
        "!wget -O data1.zip https://www.dropbox.com/sh/7q9hzgw3o11b58t/AACOAH_xyEKuGOwnZEq_WlMma?dl=0"
      ],
      "metadata": {
        "colab": {
          "base_uri": "https://localhost:8080/"
        },
        "id": "TZgxeLlj3G5N",
        "outputId": "3b2c7c60-e04c-45d3-caff-bb780ad1ee06"
      },
      "execution_count": null,
      "outputs": [
        {
          "output_type": "stream",
          "name": "stdout",
          "text": [
            "--2022-11-13 17:48:17--  https://www.dropbox.com/sh/7q9hzgw3o11b58t/AACOAH_xyEKuGOwnZEq_WlMma?dl=0\n",
            "Resolving www.dropbox.com (www.dropbox.com)... 162.125.5.18, 2620:100:601d:18::a27d:512\n",
            "Connecting to www.dropbox.com (www.dropbox.com)|162.125.5.18|:443... connected.\n",
            "HTTP request sent, awaiting response... 302 Found\n",
            "Location: /sh/raw/7q9hzgw3o11b58t/AACOAH_xyEKuGOwnZEq_WlMma [following]\n",
            "--2022-11-13 17:48:17--  https://www.dropbox.com/sh/raw/7q9hzgw3o11b58t/AACOAH_xyEKuGOwnZEq_WlMma\n",
            "Reusing existing connection to www.dropbox.com:443.\n",
            "HTTP request sent, awaiting response... 302 Found\n",
            "Location: https://uc459ffe0c9fc6066a748e34f0d6.dl.dropboxusercontent.com/zip_download_get/BUHj460vKQl7PMlt3rECoQ3VA27o_lAsYB_vf-4u9_PHY1qN391zqGJeN3BIGp2aIQZr10wagLBw9Sx0FhRcYt1iuvv4cwdNAYcy7JhHkrwI0Q# [following]\n",
            "--2022-11-13 17:48:18--  https://uc459ffe0c9fc6066a748e34f0d6.dl.dropboxusercontent.com/zip_download_get/BUHj460vKQl7PMlt3rECoQ3VA27o_lAsYB_vf-4u9_PHY1qN391zqGJeN3BIGp2aIQZr10wagLBw9Sx0FhRcYt1iuvv4cwdNAYcy7JhHkrwI0Q\n",
            "Resolving uc459ffe0c9fc6066a748e34f0d6.dl.dropboxusercontent.com (uc459ffe0c9fc6066a748e34f0d6.dl.dropboxusercontent.com)... 162.125.5.15, 2620:100:601b:15::a27d:80f\n",
            "Connecting to uc459ffe0c9fc6066a748e34f0d6.dl.dropboxusercontent.com (uc459ffe0c9fc6066a748e34f0d6.dl.dropboxusercontent.com)|162.125.5.15|:443... connected.\n",
            "HTTP request sent, awaiting response... 200 OK\n",
            "Length: 34074400961 (32G) [application/zip]\n",
            "Saving to: ‘data1.zip’\n",
            "\n",
            "data1.zip             0%[                    ]  80.01M  48.4MB/s               ^C\n"
          ]
        }
      ]
    },
    {
      "cell_type": "code",
      "source": [
        "!unzip data1.zip -x / -d data"
      ],
      "metadata": {
        "colab": {
          "base_uri": "https://localhost:8080/"
        },
        "id": "zIsJb3io4mSS",
        "outputId": "f66683bc-7e42-4e10-eb34-66577449f5d3"
      },
      "execution_count": null,
      "outputs": [
        {
          "output_type": "stream",
          "name": "stdout",
          "text": [
            "Archive:  data1.zip\n",
            " extracting: data/df_input_30_07.csv  \n",
            " extracting: data/df_combined_final_0_10m.csv  \n",
            " extracting: data/df_combined_final_10m_20m.csv  \n",
            " extracting: data/df_combined_final_20m_30m.csv  \n",
            " extracting: data/df_combined_final_30m_40m.csv  \n",
            " extracting: data/df_combined_final_40m_50m.csv  \n",
            " extracting: data/df_combined_final_50m_60m.csv  \n",
            " extracting: data/df_combined_final_60m_70m.csv  \n",
            " extracting: data/df_combined_final_70m_80m.csv  \n",
            " extracting: data/df_combined_final_80m_90m.csv  \n",
            " extracting: data/df_combined_final_90m_100m.csv  \n",
            " extracting: data/df_combined_final_100m_106m.csv  \n"
          ]
        }
      ]
    },
    {
      "cell_type": "code",
      "source": [
        "all_files = glob.glob(os.path.join(\"/content/data\", \"*.csv\"))\n",
        "all_files.sort()\n"
      ],
      "metadata": {
        "id": "PCbKl2Gt3R1T"
      },
      "execution_count": null,
      "outputs": []
    },
    {
      "cell_type": "code",
      "source": [
        "df = pd.read_csv(all_files[0])"
      ],
      "metadata": {
        "id": "TBwimvuhBIkh"
      },
      "execution_count": null,
      "outputs": []
    },
    {
      "cell_type": "code",
      "source": [
        "# Merging, RAM not enough. \n",
        "\n",
        "#df_1 = pd.concat((pd.read_csv(f) for f in all_files[0:5]), ignore_index=True)"
      ],
      "metadata": {
        "id": "yJQrzuTB4961"
      },
      "execution_count": null,
      "outputs": []
    },
    {
      "cell_type": "code",
      "source": [
        "df.info()"
      ],
      "metadata": {
        "colab": {
          "base_uri": "https://localhost:8080/"
        },
        "id": "BLpsmwPNB7fE",
        "outputId": "e284d7bc-8c16-47c8-f5ab-9add4e45b677"
      },
      "execution_count": null,
      "outputs": [
        {
          "output_type": "stream",
          "name": "stdout",
          "text": [
            "<class 'pandas.core.frame.DataFrame'>\n",
            "RangeIndex: 10000001 entries, 0 to 10000000\n",
            "Data columns (total 35 columns):\n",
            " #   Column                    Dtype  \n",
            "---  ------                    -----  \n",
            " 0   Unnamed: 0                int64  \n",
            " 1   MMSI                      int64  \n",
            " 2   SPEED_KNOTSX10            int64  \n",
            " 3   LAT                       float64\n",
            " 4   LON                       float64\n",
            " 5   COURSE                    int64  \n",
            " 6   HEADING                   float64\n",
            " 7   STATUS                    float64\n",
            " 8   TIMESTAMP                 object \n",
            " 9   trip_id_MMSI              int64  \n",
            " 10  index1                    int64  \n",
            " 11  corresponding_message_id  int64  \n",
            " 12  MMSI_Target               int64  \n",
            " 13  SPEED_KNOTSX10_Target     float64\n",
            " 14  LAT_Target                float64\n",
            " 15  LON_Target                float64\n",
            " 16  COURSE_Target             float64\n",
            " 17  STATUS_Target             float64\n",
            " 18  trip_id_MMSI_Target       int64  \n",
            " 19  Course_Target_Degrees     float64\n",
            " 20  IMO                       float64\n",
            " 21  SHIP_ID                   float64\n",
            " 22  LENGTH                    float64\n",
            " 23  WIDTH                     float64\n",
            " 24  TYPE_NAME                 object \n",
            " 25  IMO_Target                float64\n",
            " 26  SHIP_ID_Target            float64\n",
            " 27  LENGTH_Target             float64\n",
            " 28  WIDTH_Target              float64\n",
            " 29  TYPE_NAME_Target          object \n",
            " 30  TIMESTAMP_Hours           object \n",
            " 31  TIMESTAMP_Seconds         object \n",
            " 32  WIND_ANGLE                float64\n",
            " 33  WIND_SPEED                float64\n",
            " 34  WIND_TEMP                 float64\n",
            "dtypes: float64(21), int64(9), object(5)\n",
            "memory usage: 2.6+ GB\n"
          ]
        }
      ]
    },
    {
      "cell_type": "code",
      "source": [
        "df.describe()"
      ],
      "metadata": {
        "colab": {
          "base_uri": "https://localhost:8080/",
          "height": 390
        },
        "id": "8DUNWmz9JKgv",
        "outputId": "7a756fb3-98eb-4741-ffe4-a3021f921b4e"
      },
      "execution_count": null,
      "outputs": [
        {
          "output_type": "execute_result",
          "data": {
            "text/plain": [
              "         Unnamed: 0          MMSI  SPEED_KNOTSX10           LAT           LON  \\\n",
              "count  1.000000e+07  1.000000e+07    1.000000e+07  1.000000e+07  1.000000e+07   \n",
              "mean   5.000000e+06  2.813697e+08    7.601321e+01  4.104996e+01  2.902136e+01   \n",
              "std    2.886752e+06  5.751278e+07    3.346459e+01  3.999976e-02  3.523905e-02   \n",
              "min    0.000000e+00  1.000000e+00    1.100000e+01  4.097583e+01  2.892205e+01   \n",
              "25%    2.500000e+06  2.710103e+08    5.100000e+01  4.102060e+01  2.899221e+01   \n",
              "50%    5.000000e+06  2.710150e+08    7.600000e+01  4.103316e+01  2.901283e+01   \n",
              "75%    7.500000e+06  2.710440e+08    1.000000e+02  4.107769e+01  2.905493e+01   \n",
              "max    1.000000e+07  1.000000e+09    5.070000e+02  4.123863e+01  2.918033e+01   \n",
              "\n",
              "             COURSE       HEADING        STATUS  trip_id_MMSI        index1  \\\n",
              "count  1.000000e+07  1.000000e+07  9.999994e+06  1.000000e+07  1.000000e+07   \n",
              "mean   1.674671e+02  4.663781e+02  8.715094e+01  8.783491e+01  4.337614e+06   \n",
              "std    1.074955e+02  1.233411e+02  3.193033e+01  9.738706e+01  2.295438e+06   \n",
              "min    0.000000e+00  0.000000e+00  0.000000e+00  1.000000e+00  1.290000e+02   \n",
              "25%    5.600000e+01  5.110000e+02  9.900000e+01  2.300000e+01  2.495666e+06   \n",
              "50%    1.820000e+02  5.110000e+02  9.900000e+01  6.300000e+01  4.297377e+06   \n",
              "75%    2.490000e+02  5.110000e+02  9.900000e+01  1.180000e+02  6.214797e+06   \n",
              "max    3.590000e+02  5.110000e+02  9.900000e+01  8.640000e+02  9.297624e+06   \n",
              "\n",
              "       ...       SHIP_ID        LENGTH         WIDTH    IMO_Target  \\\n",
              "count  ...  9.999129e+06  9.999129e+06  9.999129e+06  9.999129e+06   \n",
              "mean   ...  1.274090e+06  4.057812e+01  8.895125e+00  2.430413e+06   \n",
              "std    ...  1.848913e+06  3.861586e+01  5.979161e+00  3.986125e+06   \n",
              "min    ...  1.524000e+03  0.000000e+00  0.000000e+00  0.000000e+00   \n",
              "25%    ...  3.363600e+05  1.800000e+01  5.000000e+00  0.000000e+00   \n",
              "50%    ...  3.370400e+05  3.300000e+01  8.000000e+00  0.000000e+00   \n",
              "75%    ...  4.208760e+05  4.200000e+01  1.000000e+01  7.900091e+06   \n",
              "max    ...  6.746117e+06  3.000000e+02  5.006000e+01  9.873096e+06   \n",
              "\n",
              "       SHIP_ID_Target  LENGTH_Target  WIDTH_Target    WIND_ANGLE  \\\n",
              "count    9.999129e+06   9.999129e+06  9.999129e+06  8.127135e+06   \n",
              "mean     1.232567e+06   4.098412e+01  8.955108e+00  1.133551e+02   \n",
              "std      1.808514e+06   3.872156e+01  5.977998e+00  1.319451e+02   \n",
              "min      1.524000e+03   0.000000e+00  0.000000e+00  0.000000e+00   \n",
              "25%      3.363540e+05   1.800000e+01  5.000000e+00  1.600000e+01   \n",
              "50%      3.368800e+05   3.400000e+01  8.000000e+00  3.100000e+01   \n",
              "75%      3.653540e+05   4.200000e+01  1.000000e+01  2.410000e+02   \n",
              "max      6.746117e+06   3.000000e+02  5.006000e+01  3.590000e+02   \n",
              "\n",
              "         WIND_SPEED     WIND_TEMP  \n",
              "count  8.127135e+06  8.127135e+06  \n",
              "mean   7.107070e+00  1.920819e+01  \n",
              "std    3.766605e+00  2.580712e+00  \n",
              "min    0.000000e+00  1.000000e+01  \n",
              "25%    4.000000e+00  1.700000e+01  \n",
              "50%    7.000000e+00  2.000000e+01  \n",
              "75%    1.000000e+01  2.100000e+01  \n",
              "max    1.700000e+01  2.500000e+01  \n",
              "\n",
              "[8 rows x 30 columns]"
            ],
            "text/html": [
              "\n",
              "  <div id=\"df-7c0726df-40bb-49f7-950e-ab44aa13e482\">\n",
              "    <div class=\"colab-df-container\">\n",
              "      <div>\n",
              "<style scoped>\n",
              "    .dataframe tbody tr th:only-of-type {\n",
              "        vertical-align: middle;\n",
              "    }\n",
              "\n",
              "    .dataframe tbody tr th {\n",
              "        vertical-align: top;\n",
              "    }\n",
              "\n",
              "    .dataframe thead th {\n",
              "        text-align: right;\n",
              "    }\n",
              "</style>\n",
              "<table border=\"1\" class=\"dataframe\">\n",
              "  <thead>\n",
              "    <tr style=\"text-align: right;\">\n",
              "      <th></th>\n",
              "      <th>Unnamed: 0</th>\n",
              "      <th>MMSI</th>\n",
              "      <th>SPEED_KNOTSX10</th>\n",
              "      <th>LAT</th>\n",
              "      <th>LON</th>\n",
              "      <th>COURSE</th>\n",
              "      <th>HEADING</th>\n",
              "      <th>STATUS</th>\n",
              "      <th>trip_id_MMSI</th>\n",
              "      <th>index1</th>\n",
              "      <th>...</th>\n",
              "      <th>SHIP_ID</th>\n",
              "      <th>LENGTH</th>\n",
              "      <th>WIDTH</th>\n",
              "      <th>IMO_Target</th>\n",
              "      <th>SHIP_ID_Target</th>\n",
              "      <th>LENGTH_Target</th>\n",
              "      <th>WIDTH_Target</th>\n",
              "      <th>WIND_ANGLE</th>\n",
              "      <th>WIND_SPEED</th>\n",
              "      <th>WIND_TEMP</th>\n",
              "    </tr>\n",
              "  </thead>\n",
              "  <tbody>\n",
              "    <tr>\n",
              "      <th>count</th>\n",
              "      <td>1.000000e+07</td>\n",
              "      <td>1.000000e+07</td>\n",
              "      <td>1.000000e+07</td>\n",
              "      <td>1.000000e+07</td>\n",
              "      <td>1.000000e+07</td>\n",
              "      <td>1.000000e+07</td>\n",
              "      <td>1.000000e+07</td>\n",
              "      <td>9.999994e+06</td>\n",
              "      <td>1.000000e+07</td>\n",
              "      <td>1.000000e+07</td>\n",
              "      <td>...</td>\n",
              "      <td>9.999129e+06</td>\n",
              "      <td>9.999129e+06</td>\n",
              "      <td>9.999129e+06</td>\n",
              "      <td>9.999129e+06</td>\n",
              "      <td>9.999129e+06</td>\n",
              "      <td>9.999129e+06</td>\n",
              "      <td>9.999129e+06</td>\n",
              "      <td>8.127135e+06</td>\n",
              "      <td>8.127135e+06</td>\n",
              "      <td>8.127135e+06</td>\n",
              "    </tr>\n",
              "    <tr>\n",
              "      <th>mean</th>\n",
              "      <td>5.000000e+06</td>\n",
              "      <td>2.813697e+08</td>\n",
              "      <td>7.601321e+01</td>\n",
              "      <td>4.104996e+01</td>\n",
              "      <td>2.902136e+01</td>\n",
              "      <td>1.674671e+02</td>\n",
              "      <td>4.663781e+02</td>\n",
              "      <td>8.715094e+01</td>\n",
              "      <td>8.783491e+01</td>\n",
              "      <td>4.337614e+06</td>\n",
              "      <td>...</td>\n",
              "      <td>1.274090e+06</td>\n",
              "      <td>4.057812e+01</td>\n",
              "      <td>8.895125e+00</td>\n",
              "      <td>2.430413e+06</td>\n",
              "      <td>1.232567e+06</td>\n",
              "      <td>4.098412e+01</td>\n",
              "      <td>8.955108e+00</td>\n",
              "      <td>1.133551e+02</td>\n",
              "      <td>7.107070e+00</td>\n",
              "      <td>1.920819e+01</td>\n",
              "    </tr>\n",
              "    <tr>\n",
              "      <th>std</th>\n",
              "      <td>2.886752e+06</td>\n",
              "      <td>5.751278e+07</td>\n",
              "      <td>3.346459e+01</td>\n",
              "      <td>3.999976e-02</td>\n",
              "      <td>3.523905e-02</td>\n",
              "      <td>1.074955e+02</td>\n",
              "      <td>1.233411e+02</td>\n",
              "      <td>3.193033e+01</td>\n",
              "      <td>9.738706e+01</td>\n",
              "      <td>2.295438e+06</td>\n",
              "      <td>...</td>\n",
              "      <td>1.848913e+06</td>\n",
              "      <td>3.861586e+01</td>\n",
              "      <td>5.979161e+00</td>\n",
              "      <td>3.986125e+06</td>\n",
              "      <td>1.808514e+06</td>\n",
              "      <td>3.872156e+01</td>\n",
              "      <td>5.977998e+00</td>\n",
              "      <td>1.319451e+02</td>\n",
              "      <td>3.766605e+00</td>\n",
              "      <td>2.580712e+00</td>\n",
              "    </tr>\n",
              "    <tr>\n",
              "      <th>min</th>\n",
              "      <td>0.000000e+00</td>\n",
              "      <td>1.000000e+00</td>\n",
              "      <td>1.100000e+01</td>\n",
              "      <td>4.097583e+01</td>\n",
              "      <td>2.892205e+01</td>\n",
              "      <td>0.000000e+00</td>\n",
              "      <td>0.000000e+00</td>\n",
              "      <td>0.000000e+00</td>\n",
              "      <td>1.000000e+00</td>\n",
              "      <td>1.290000e+02</td>\n",
              "      <td>...</td>\n",
              "      <td>1.524000e+03</td>\n",
              "      <td>0.000000e+00</td>\n",
              "      <td>0.000000e+00</td>\n",
              "      <td>0.000000e+00</td>\n",
              "      <td>1.524000e+03</td>\n",
              "      <td>0.000000e+00</td>\n",
              "      <td>0.000000e+00</td>\n",
              "      <td>0.000000e+00</td>\n",
              "      <td>0.000000e+00</td>\n",
              "      <td>1.000000e+01</td>\n",
              "    </tr>\n",
              "    <tr>\n",
              "      <th>25%</th>\n",
              "      <td>2.500000e+06</td>\n",
              "      <td>2.710103e+08</td>\n",
              "      <td>5.100000e+01</td>\n",
              "      <td>4.102060e+01</td>\n",
              "      <td>2.899221e+01</td>\n",
              "      <td>5.600000e+01</td>\n",
              "      <td>5.110000e+02</td>\n",
              "      <td>9.900000e+01</td>\n",
              "      <td>2.300000e+01</td>\n",
              "      <td>2.495666e+06</td>\n",
              "      <td>...</td>\n",
              "      <td>3.363600e+05</td>\n",
              "      <td>1.800000e+01</td>\n",
              "      <td>5.000000e+00</td>\n",
              "      <td>0.000000e+00</td>\n",
              "      <td>3.363540e+05</td>\n",
              "      <td>1.800000e+01</td>\n",
              "      <td>5.000000e+00</td>\n",
              "      <td>1.600000e+01</td>\n",
              "      <td>4.000000e+00</td>\n",
              "      <td>1.700000e+01</td>\n",
              "    </tr>\n",
              "    <tr>\n",
              "      <th>50%</th>\n",
              "      <td>5.000000e+06</td>\n",
              "      <td>2.710150e+08</td>\n",
              "      <td>7.600000e+01</td>\n",
              "      <td>4.103316e+01</td>\n",
              "      <td>2.901283e+01</td>\n",
              "      <td>1.820000e+02</td>\n",
              "      <td>5.110000e+02</td>\n",
              "      <td>9.900000e+01</td>\n",
              "      <td>6.300000e+01</td>\n",
              "      <td>4.297377e+06</td>\n",
              "      <td>...</td>\n",
              "      <td>3.370400e+05</td>\n",
              "      <td>3.300000e+01</td>\n",
              "      <td>8.000000e+00</td>\n",
              "      <td>0.000000e+00</td>\n",
              "      <td>3.368800e+05</td>\n",
              "      <td>3.400000e+01</td>\n",
              "      <td>8.000000e+00</td>\n",
              "      <td>3.100000e+01</td>\n",
              "      <td>7.000000e+00</td>\n",
              "      <td>2.000000e+01</td>\n",
              "    </tr>\n",
              "    <tr>\n",
              "      <th>75%</th>\n",
              "      <td>7.500000e+06</td>\n",
              "      <td>2.710440e+08</td>\n",
              "      <td>1.000000e+02</td>\n",
              "      <td>4.107769e+01</td>\n",
              "      <td>2.905493e+01</td>\n",
              "      <td>2.490000e+02</td>\n",
              "      <td>5.110000e+02</td>\n",
              "      <td>9.900000e+01</td>\n",
              "      <td>1.180000e+02</td>\n",
              "      <td>6.214797e+06</td>\n",
              "      <td>...</td>\n",
              "      <td>4.208760e+05</td>\n",
              "      <td>4.200000e+01</td>\n",
              "      <td>1.000000e+01</td>\n",
              "      <td>7.900091e+06</td>\n",
              "      <td>3.653540e+05</td>\n",
              "      <td>4.200000e+01</td>\n",
              "      <td>1.000000e+01</td>\n",
              "      <td>2.410000e+02</td>\n",
              "      <td>1.000000e+01</td>\n",
              "      <td>2.100000e+01</td>\n",
              "    </tr>\n",
              "    <tr>\n",
              "      <th>max</th>\n",
              "      <td>1.000000e+07</td>\n",
              "      <td>1.000000e+09</td>\n",
              "      <td>5.070000e+02</td>\n",
              "      <td>4.123863e+01</td>\n",
              "      <td>2.918033e+01</td>\n",
              "      <td>3.590000e+02</td>\n",
              "      <td>5.110000e+02</td>\n",
              "      <td>9.900000e+01</td>\n",
              "      <td>8.640000e+02</td>\n",
              "      <td>9.297624e+06</td>\n",
              "      <td>...</td>\n",
              "      <td>6.746117e+06</td>\n",
              "      <td>3.000000e+02</td>\n",
              "      <td>5.006000e+01</td>\n",
              "      <td>9.873096e+06</td>\n",
              "      <td>6.746117e+06</td>\n",
              "      <td>3.000000e+02</td>\n",
              "      <td>5.006000e+01</td>\n",
              "      <td>3.590000e+02</td>\n",
              "      <td>1.700000e+01</td>\n",
              "      <td>2.500000e+01</td>\n",
              "    </tr>\n",
              "  </tbody>\n",
              "</table>\n",
              "<p>8 rows × 30 columns</p>\n",
              "</div>\n",
              "      <button class=\"colab-df-convert\" onclick=\"convertToInteractive('df-7c0726df-40bb-49f7-950e-ab44aa13e482')\"\n",
              "              title=\"Convert this dataframe to an interactive table.\"\n",
              "              style=\"display:none;\">\n",
              "        \n",
              "  <svg xmlns=\"http://www.w3.org/2000/svg\" height=\"24px\"viewBox=\"0 0 24 24\"\n",
              "       width=\"24px\">\n",
              "    <path d=\"M0 0h24v24H0V0z\" fill=\"none\"/>\n",
              "    <path d=\"M18.56 5.44l.94 2.06.94-2.06 2.06-.94-2.06-.94-.94-2.06-.94 2.06-2.06.94zm-11 1L8.5 8.5l.94-2.06 2.06-.94-2.06-.94L8.5 2.5l-.94 2.06-2.06.94zm10 10l.94 2.06.94-2.06 2.06-.94-2.06-.94-.94-2.06-.94 2.06-2.06.94z\"/><path d=\"M17.41 7.96l-1.37-1.37c-.4-.4-.92-.59-1.43-.59-.52 0-1.04.2-1.43.59L10.3 9.45l-7.72 7.72c-.78.78-.78 2.05 0 2.83L4 21.41c.39.39.9.59 1.41.59.51 0 1.02-.2 1.41-.59l7.78-7.78 2.81-2.81c.8-.78.8-2.07 0-2.86zM5.41 20L4 18.59l7.72-7.72 1.47 1.35L5.41 20z\"/>\n",
              "  </svg>\n",
              "      </button>\n",
              "      \n",
              "  <style>\n",
              "    .colab-df-container {\n",
              "      display:flex;\n",
              "      flex-wrap:wrap;\n",
              "      gap: 12px;\n",
              "    }\n",
              "\n",
              "    .colab-df-convert {\n",
              "      background-color: #E8F0FE;\n",
              "      border: none;\n",
              "      border-radius: 50%;\n",
              "      cursor: pointer;\n",
              "      display: none;\n",
              "      fill: #1967D2;\n",
              "      height: 32px;\n",
              "      padding: 0 0 0 0;\n",
              "      width: 32px;\n",
              "    }\n",
              "\n",
              "    .colab-df-convert:hover {\n",
              "      background-color: #E2EBFA;\n",
              "      box-shadow: 0px 1px 2px rgba(60, 64, 67, 0.3), 0px 1px 3px 1px rgba(60, 64, 67, 0.15);\n",
              "      fill: #174EA6;\n",
              "    }\n",
              "\n",
              "    [theme=dark] .colab-df-convert {\n",
              "      background-color: #3B4455;\n",
              "      fill: #D2E3FC;\n",
              "    }\n",
              "\n",
              "    [theme=dark] .colab-df-convert:hover {\n",
              "      background-color: #434B5C;\n",
              "      box-shadow: 0px 1px 3px 1px rgba(0, 0, 0, 0.15);\n",
              "      filter: drop-shadow(0px 1px 2px rgba(0, 0, 0, 0.3));\n",
              "      fill: #FFFFFF;\n",
              "    }\n",
              "  </style>\n",
              "\n",
              "      <script>\n",
              "        const buttonEl =\n",
              "          document.querySelector('#df-7c0726df-40bb-49f7-950e-ab44aa13e482 button.colab-df-convert');\n",
              "        buttonEl.style.display =\n",
              "          google.colab.kernel.accessAllowed ? 'block' : 'none';\n",
              "\n",
              "        async function convertToInteractive(key) {\n",
              "          const element = document.querySelector('#df-7c0726df-40bb-49f7-950e-ab44aa13e482');\n",
              "          const dataTable =\n",
              "            await google.colab.kernel.invokeFunction('convertToInteractive',\n",
              "                                                     [key], {});\n",
              "          if (!dataTable) return;\n",
              "\n",
              "          const docLinkHtml = 'Like what you see? Visit the ' +\n",
              "            '<a target=\"_blank\" href=https://colab.research.google.com/notebooks/data_table.ipynb>data table notebook</a>'\n",
              "            + ' to learn more about interactive tables.';\n",
              "          element.innerHTML = '';\n",
              "          dataTable['output_type'] = 'display_data';\n",
              "          await google.colab.output.renderOutput(dataTable, element);\n",
              "          const docLink = document.createElement('div');\n",
              "          docLink.innerHTML = docLinkHtml;\n",
              "          element.appendChild(docLink);\n",
              "        }\n",
              "      </script>\n",
              "    </div>\n",
              "  </div>\n",
              "  "
            ]
          },
          "metadata": {},
          "execution_count": 11
        }
      ]
    },
    {
      "cell_type": "code",
      "source": [
        "#df.head().to_csv(\"df_head.csv\")"
      ],
      "metadata": {
        "id": "tFWHcfRIHHSi"
      },
      "execution_count": null,
      "outputs": []
    },
    {
      "cell_type": "code",
      "source": [
        "df_mmsi_size = pd.DataFrame({'MMSI_Count': df.groupby([\"MMSI\"]).size()}).reset_index()\n",
        "df_mmsi_size_filtered = df_mmsi_size[df_mmsi_size[\"MMSI_Count\"]>60000].copy()"
      ],
      "metadata": {
        "id": "h-AQSyZXHH-g"
      },
      "execution_count": null,
      "outputs": []
    },
    {
      "cell_type": "code",
      "source": [
        "df_mmsi_size_filtered"
      ],
      "metadata": {
        "colab": {
          "base_uri": "https://localhost:8080/",
          "height": 297
        },
        "id": "B1ulourQNYzS",
        "outputId": "7ed99067-a18d-49f4-9b85-c633fc05a809"
      },
      "execution_count": null,
      "outputs": [
        {
          "output_type": "execute_result",
          "data": {
            "text/plain": [
              "           MMSI  MMSI_Count\n",
              "481   271001039       80580\n",
              "555   271002504       88302\n",
              "570   271002578       85269\n",
              "798   271010683       61133\n",
              "1110  271044098       71581\n",
              "1120  271044172       75445\n",
              "1123  271044201       75773\n",
              "1124  271044216       72591"
            ],
            "text/html": [
              "\n",
              "  <div id=\"df-ab9fc115-96db-4626-95fd-6962e0b22436\">\n",
              "    <div class=\"colab-df-container\">\n",
              "      <div>\n",
              "<style scoped>\n",
              "    .dataframe tbody tr th:only-of-type {\n",
              "        vertical-align: middle;\n",
              "    }\n",
              "\n",
              "    .dataframe tbody tr th {\n",
              "        vertical-align: top;\n",
              "    }\n",
              "\n",
              "    .dataframe thead th {\n",
              "        text-align: right;\n",
              "    }\n",
              "</style>\n",
              "<table border=\"1\" class=\"dataframe\">\n",
              "  <thead>\n",
              "    <tr style=\"text-align: right;\">\n",
              "      <th></th>\n",
              "      <th>MMSI</th>\n",
              "      <th>MMSI_Count</th>\n",
              "    </tr>\n",
              "  </thead>\n",
              "  <tbody>\n",
              "    <tr>\n",
              "      <th>481</th>\n",
              "      <td>271001039</td>\n",
              "      <td>80580</td>\n",
              "    </tr>\n",
              "    <tr>\n",
              "      <th>555</th>\n",
              "      <td>271002504</td>\n",
              "      <td>88302</td>\n",
              "    </tr>\n",
              "    <tr>\n",
              "      <th>570</th>\n",
              "      <td>271002578</td>\n",
              "      <td>85269</td>\n",
              "    </tr>\n",
              "    <tr>\n",
              "      <th>798</th>\n",
              "      <td>271010683</td>\n",
              "      <td>61133</td>\n",
              "    </tr>\n",
              "    <tr>\n",
              "      <th>1110</th>\n",
              "      <td>271044098</td>\n",
              "      <td>71581</td>\n",
              "    </tr>\n",
              "    <tr>\n",
              "      <th>1120</th>\n",
              "      <td>271044172</td>\n",
              "      <td>75445</td>\n",
              "    </tr>\n",
              "    <tr>\n",
              "      <th>1123</th>\n",
              "      <td>271044201</td>\n",
              "      <td>75773</td>\n",
              "    </tr>\n",
              "    <tr>\n",
              "      <th>1124</th>\n",
              "      <td>271044216</td>\n",
              "      <td>72591</td>\n",
              "    </tr>\n",
              "  </tbody>\n",
              "</table>\n",
              "</div>\n",
              "      <button class=\"colab-df-convert\" onclick=\"convertToInteractive('df-ab9fc115-96db-4626-95fd-6962e0b22436')\"\n",
              "              title=\"Convert this dataframe to an interactive table.\"\n",
              "              style=\"display:none;\">\n",
              "        \n",
              "  <svg xmlns=\"http://www.w3.org/2000/svg\" height=\"24px\"viewBox=\"0 0 24 24\"\n",
              "       width=\"24px\">\n",
              "    <path d=\"M0 0h24v24H0V0z\" fill=\"none\"/>\n",
              "    <path d=\"M18.56 5.44l.94 2.06.94-2.06 2.06-.94-2.06-.94-.94-2.06-.94 2.06-2.06.94zm-11 1L8.5 8.5l.94-2.06 2.06-.94-2.06-.94L8.5 2.5l-.94 2.06-2.06.94zm10 10l.94 2.06.94-2.06 2.06-.94-2.06-.94-.94-2.06-.94 2.06-2.06.94z\"/><path d=\"M17.41 7.96l-1.37-1.37c-.4-.4-.92-.59-1.43-.59-.52 0-1.04.2-1.43.59L10.3 9.45l-7.72 7.72c-.78.78-.78 2.05 0 2.83L4 21.41c.39.39.9.59 1.41.59.51 0 1.02-.2 1.41-.59l7.78-7.78 2.81-2.81c.8-.78.8-2.07 0-2.86zM5.41 20L4 18.59l7.72-7.72 1.47 1.35L5.41 20z\"/>\n",
              "  </svg>\n",
              "      </button>\n",
              "      \n",
              "  <style>\n",
              "    .colab-df-container {\n",
              "      display:flex;\n",
              "      flex-wrap:wrap;\n",
              "      gap: 12px;\n",
              "    }\n",
              "\n",
              "    .colab-df-convert {\n",
              "      background-color: #E8F0FE;\n",
              "      border: none;\n",
              "      border-radius: 50%;\n",
              "      cursor: pointer;\n",
              "      display: none;\n",
              "      fill: #1967D2;\n",
              "      height: 32px;\n",
              "      padding: 0 0 0 0;\n",
              "      width: 32px;\n",
              "    }\n",
              "\n",
              "    .colab-df-convert:hover {\n",
              "      background-color: #E2EBFA;\n",
              "      box-shadow: 0px 1px 2px rgba(60, 64, 67, 0.3), 0px 1px 3px 1px rgba(60, 64, 67, 0.15);\n",
              "      fill: #174EA6;\n",
              "    }\n",
              "\n",
              "    [theme=dark] .colab-df-convert {\n",
              "      background-color: #3B4455;\n",
              "      fill: #D2E3FC;\n",
              "    }\n",
              "\n",
              "    [theme=dark] .colab-df-convert:hover {\n",
              "      background-color: #434B5C;\n",
              "      box-shadow: 0px 1px 3px 1px rgba(0, 0, 0, 0.15);\n",
              "      filter: drop-shadow(0px 1px 2px rgba(0, 0, 0, 0.3));\n",
              "      fill: #FFFFFF;\n",
              "    }\n",
              "  </style>\n",
              "\n",
              "      <script>\n",
              "        const buttonEl =\n",
              "          document.querySelector('#df-ab9fc115-96db-4626-95fd-6962e0b22436 button.colab-df-convert');\n",
              "        buttonEl.style.display =\n",
              "          google.colab.kernel.accessAllowed ? 'block' : 'none';\n",
              "\n",
              "        async function convertToInteractive(key) {\n",
              "          const element = document.querySelector('#df-ab9fc115-96db-4626-95fd-6962e0b22436');\n",
              "          const dataTable =\n",
              "            await google.colab.kernel.invokeFunction('convertToInteractive',\n",
              "                                                     [key], {});\n",
              "          if (!dataTable) return;\n",
              "\n",
              "          const docLinkHtml = 'Like what you see? Visit the ' +\n",
              "            '<a target=\"_blank\" href=https://colab.research.google.com/notebooks/data_table.ipynb>data table notebook</a>'\n",
              "            + ' to learn more about interactive tables.';\n",
              "          element.innerHTML = '';\n",
              "          dataTable['output_type'] = 'display_data';\n",
              "          await google.colab.output.renderOutput(dataTable, element);\n",
              "          const docLink = document.createElement('div');\n",
              "          docLink.innerHTML = docLinkHtml;\n",
              "          element.appendChild(docLink);\n",
              "        }\n",
              "      </script>\n",
              "    </div>\n",
              "  </div>\n",
              "  "
            ]
          },
          "metadata": {},
          "execution_count": 19
        }
      ]
    },
    {
      "cell_type": "code",
      "source": [
        "sns.barplot(data=df_mmsi_size_filtered, x=\"MMSI\", y=\"MMSI_Count\")"
      ],
      "metadata": {
        "colab": {
          "base_uri": "https://localhost:8080/",
          "height": 296
        },
        "id": "o-lQHfkxLU-5",
        "outputId": "426bb090-67ca-48ea-a8b5-e415c3eedc52"
      },
      "execution_count": null,
      "outputs": [
        {
          "output_type": "execute_result",
          "data": {
            "text/plain": [
              "<matplotlib.axes._subplots.AxesSubplot at 0x7f2501cf7250>"
            ]
          },
          "metadata": {},
          "execution_count": 18
        },
        {
          "output_type": "display_data",
          "data": {
            "text/plain": [
              "<Figure size 432x288 with 1 Axes>"
            ],
            "image/png": "[encoded data removed]"
          },
          "metadata": {
            "needs_background": "light"
          }
        }
      ]
    },
    {
      "cell_type": "code",
      "source": [
        "df.groupby(\"SHIP_ID\").size()"
      ],
      "metadata": {
        "colab": {
          "base_uri": "https://localhost:8080/"
        },
        "id": "6xK_JWLKLAAh",
        "outputId": "0aee73db-3f3d-4b93-84ba-6f4d6490f052"
      },
      "execution_count": null,
      "outputs": [
        {
          "output_type": "execute_result",
          "data": {
            "text/plain": [
              "SHIP_ID\n",
              "1524.0        463\n",
              "1545.0        742\n",
              "1590.0        109\n",
              "1605.0        278\n",
              "1622.0       1217\n",
              "             ... \n",
              "5936230.0     324\n",
              "5937972.0       7\n",
              "5940268.0     600\n",
              "6270156.0     379\n",
              "6746117.0     576\n",
              "Length: 2440, dtype: int64"
            ]
          },
          "metadata": {},
          "execution_count": 15
        }
      ]
    },
    {
      "cell_type": "code",
      "source": [
        "n, bins, patches = plt.hist(df[\"SPEED_KNOTSX10\"], 50, density=True, facecolor='g', alpha=0.75)\n",
        "\n",
        "plt.xlabel('SPEED_KNOTSX10')\n",
        "plt.title('Histogram of SPEED_KNOTSX10')\n",
        "plt.ylim(0, 0.015)\n",
        "plt.grid(True)\n",
        "plt.show()\n",
        "\n",
        "# Outliers above 160-170"
      ],
      "metadata": {
        "colab": {
          "base_uri": "https://localhost:8080/",
          "height": 296
        },
        "id": "CW0vWHBqLJlq",
        "outputId": "e36d49fa-b0bd-4e5d-a29d-32230e7096ca"
      },
      "execution_count": null,
      "outputs": [
        {
          "output_type": "display_data",
          "data": {
            "text/plain": [
              "<Figure size 432x288 with 1 Axes>"
            ],
            "image/png": "[encoded data removed]"
          },
          "metadata": {
            "needs_background": "light"
          }
        }
      ]
    },
    {
      "cell_type": "code",
      "source": [
        "n, bins, patches = plt.hist(df[\"COURSE\"], 50, density=True, facecolor='r', alpha=0.75)\n",
        "\n",
        "\n",
        "plt.xlabel('COURSE')\n",
        "plt.title('Histogram of COURSE')\n",
        "plt.ylim(0, 0.01)\n",
        "plt.grid(True)\n",
        "plt.show()"
      ],
      "metadata": {
        "colab": {
          "base_uri": "https://localhost:8080/",
          "height": 295
        },
        "id": "7oYSt1ybO0Do",
        "outputId": "4d089047-c216-42ba-bbb0-b56f3cd91a51"
      },
      "execution_count": null,
      "outputs": [
        {
          "output_type": "display_data",
          "data": {
            "text/plain": [
              "<Figure size 432x288 with 1 Axes>"
            ],
            "image/png": "[encoded data removed]"
          },
          "metadata": {
            "needs_background": "light"
          }
        }
      ]
    },
    {
      "cell_type": "code",
      "source": [
        "n, bins, patches = plt.hist(df[\"LENGTH\"], 50, density=True, facecolor='b', alpha=0.75)\n",
        "\n",
        "\n",
        "plt.xlabel('LENGTH')\n",
        "plt.title('Histogram of LENGTH')\n",
        "plt.ylim(0, 0.04)\n",
        "plt.grid(True)\n",
        "plt.show()\n",
        "\n",
        "# Large majority are local ships."
      ],
      "metadata": {
        "colab": {
          "base_uri": "https://localhost:8080/",
          "height": 295
        },
        "id": "gPHXcADfPEqO",
        "outputId": "579edbe1-2af6-4cfc-a85e-aa6ed31dab01"
      },
      "execution_count": null,
      "outputs": [
        {
          "output_type": "display_data",
          "data": {
            "text/plain": [
              "<Figure size 432x288 with 1 Axes>"
            ],
            "image/png": "[encoded data removed]"
          },
          "metadata": {
            "needs_background": "light"
          }
        }
      ]
    },
    {
      "cell_type": "code",
      "source": [
        "n, bins, patches = plt.hist(df[\"WIDTH\"], 50, density=True, facecolor='b', alpha=0.75)\n",
        "\n",
        "\n",
        "plt.xlabel('WIDTH')\n",
        "plt.title('Histogram of WIDTH')\n",
        "plt.ylim(0, 0.2)\n",
        "plt.grid(True)\n",
        "plt.show()\n",
        "\n",
        "# Large majority are local ships - less than 10 meters width."
      ],
      "metadata": {
        "colab": {
          "base_uri": "https://localhost:8080/",
          "height": 295
        },
        "id": "fgurKhM1QPZc",
        "outputId": "4068ec58-49c5-4ba3-d03b-ffbc8effa633"
      },
      "execution_count": null,
      "outputs": [
        {
          "output_type": "display_data",
          "data": {
            "text/plain": [
              "<Figure size 432x288 with 1 Axes>"
            ],
            "image/png": "[encoded data removed]"
          },
          "metadata": {
            "needs_background": "light"
          }
        }
      ]
    },
    {
      "cell_type": "code",
      "source": [
        "df.groupby([\"TYPE_NAME\"]).size().max()\n",
        "df_TYPE_NAME_size = pd.DataFrame({'TYPE_NAME_Count': df.groupby([\"TYPE_NAME\"]).size()}).reset_index()\n",
        "df_TYPE_NAME_size_filtered = df_TYPE_NAME_size[df_TYPE_NAME_size[\"TYPE_NAME_Count\"]>100000].copy()"
      ],
      "metadata": {
        "id": "f7fJ4AacRKwY"
      },
      "execution_count": null,
      "outputs": []
    },
    {
      "cell_type": "code",
      "source": [
        "df_TYPE_NAME_size_filtered"
      ],
      "metadata": {
        "colab": {
          "base_uri": "https://localhost:8080/",
          "height": 297
        },
        "id": "JNs8ypaSR7zD",
        "outputId": "98e58339-b401-4b51-fa61-906a120d6d18"
      },
      "execution_count": null,
      "outputs": [
        {
          "output_type": "execute_result",
          "data": {
            "text/plain": [
              "               TYPE_NAME  TYPE_NAME_Count\n",
              "2           Bulk Carrier           148278\n",
              "18         General Cargo           430632\n",
              "38             Passenger          4053665\n",
              "39        Passenger Ship          1200157\n",
              "41        Pleasure Craft          2817474\n",
              "47  Ro-Ro/Passenger Ship           395218\n",
              "49        Sailing Vessel           193388\n",
              "56                   Tug           182786"
            ],
            "text/html": [
              "\n",
              "  <div id=\"df-a30d75c2-ef1a-4806-bc61-7bcdc973ea4d\">\n",
              "    <div class=\"colab-df-container\">\n",
              "      <div>\n",
              "<style scoped>\n",
              "    .dataframe tbody tr th:only-of-type {\n",
              "        vertical-align: middle;\n",
              "    }\n",
              "\n",
              "    .dataframe tbody tr th {\n",
              "        vertical-align: top;\n",
              "    }\n",
              "\n",
              "    .dataframe thead th {\n",
              "        text-align: right;\n",
              "    }\n",
              "</style>\n",
              "<table border=\"1\" class=\"dataframe\">\n",
              "  <thead>\n",
              "    <tr style=\"text-align: right;\">\n",
              "      <th></th>\n",
              "      <th>TYPE_NAME</th>\n",
              "      <th>TYPE_NAME_Count</th>\n",
              "    </tr>\n",
              "  </thead>\n",
              "  <tbody>\n",
              "    <tr>\n",
              "      <th>2</th>\n",
              "      <td>Bulk Carrier</td>\n",
              "      <td>148278</td>\n",
              "    </tr>\n",
              "    <tr>\n",
              "      <th>18</th>\n",
              "      <td>General Cargo</td>\n",
              "      <td>430632</td>\n",
              "    </tr>\n",
              "    <tr>\n",
              "      <th>38</th>\n",
              "      <td>Passenger</td>\n",
              "      <td>4053665</td>\n",
              "    </tr>\n",
              "    <tr>\n",
              "      <th>39</th>\n",
              "      <td>Passenger Ship</td>\n",
              "      <td>1200157</td>\n",
              "    </tr>\n",
              "    <tr>\n",
              "      <th>41</th>\n",
              "      <td>Pleasure Craft</td>\n",
              "      <td>2817474</td>\n",
              "    </tr>\n",
              "    <tr>\n",
              "      <th>47</th>\n",
              "      <td>Ro-Ro/Passenger Ship</td>\n",
              "      <td>395218</td>\n",
              "    </tr>\n",
              "    <tr>\n",
              "      <th>49</th>\n",
              "      <td>Sailing Vessel</td>\n",
              "      <td>193388</td>\n",
              "    </tr>\n",
              "    <tr>\n",
              "      <th>56</th>\n",
              "      <td>Tug</td>\n",
              "      <td>182786</td>\n",
              "    </tr>\n",
              "  </tbody>\n",
              "</table>\n",
              "</div>\n",
              "      <button class=\"colab-df-convert\" onclick=\"convertToInteractive('df-a30d75c2-ef1a-4806-bc61-7bcdc973ea4d')\"\n",
              "              title=\"Convert this dataframe to an interactive table.\"\n",
              "              style=\"display:none;\">\n",
              "        \n",
              "  <svg xmlns=\"http://www.w3.org/2000/svg\" height=\"24px\"viewBox=\"0 0 24 24\"\n",
              "       width=\"24px\">\n",
              "    <path d=\"M0 0h24v24H0V0z\" fill=\"none\"/>\n",
              "    <path d=\"M18.56 5.44l.94 2.06.94-2.06 2.06-.94-2.06-.94-.94-2.06-.94 2.06-2.06.94zm-11 1L8.5 8.5l.94-2.06 2.06-.94-2.06-.94L8.5 2.5l-.94 2.06-2.06.94zm10 10l.94 2.06.94-2.06 2.06-.94-2.06-.94-.94-2.06-.94 2.06-2.06.94z\"/><path d=\"M17.41 7.96l-1.37-1.37c-.4-.4-.92-.59-1.43-.59-.52 0-1.04.2-1.43.59L10.3 9.45l-7.72 7.72c-.78.78-.78 2.05 0 2.83L4 21.41c.39.39.9.59 1.41.59.51 0 1.02-.2 1.41-.59l7.78-7.78 2.81-2.81c.8-.78.8-2.07 0-2.86zM5.41 20L4 18.59l7.72-7.72 1.47 1.35L5.41 20z\"/>\n",
              "  </svg>\n",
              "      </button>\n",
              "      \n",
              "  <style>\n",
              "    .colab-df-container {\n",
              "      display:flex;\n",
              "      flex-wrap:wrap;\n",
              "      gap: 12px;\n",
              "    }\n",
              "\n",
              "    .colab-df-convert {\n",
              "      background-color: #E8F0FE;\n",
              "      border: none;\n",
              "      border-radius: 50%;\n",
              "      cursor: pointer;\n",
              "      display: none;\n",
              "      fill: #1967D2;\n",
              "      height: 32px;\n",
              "      padding: 0 0 0 0;\n",
              "      width: 32px;\n",
              "    }\n",
              "\n",
              "    .colab-df-convert:hover {\n",
              "      background-color: #E2EBFA;\n",
              "      box-shadow: 0px 1px 2px rgba(60, 64, 67, 0.3), 0px 1px 3px 1px rgba(60, 64, 67, 0.15);\n",
              "      fill: #174EA6;\n",
              "    }\n",
              "\n",
              "    [theme=dark] .colab-df-convert {\n",
              "      background-color: #3B4455;\n",
              "      fill: #D2E3FC;\n",
              "    }\n",
              "\n",
              "    [theme=dark] .colab-df-convert:hover {\n",
              "      background-color: #434B5C;\n",
              "      box-shadow: 0px 1px 3px 1px rgba(0, 0, 0, 0.15);\n",
              "      filter: drop-shadow(0px 1px 2px rgba(0, 0, 0, 0.3));\n",
              "      fill: #FFFFFF;\n",
              "    }\n",
              "  </style>\n",
              "\n",
              "      <script>\n",
              "        const buttonEl =\n",
              "          document.querySelector('#df-a30d75c2-ef1a-4806-bc61-7bcdc973ea4d button.colab-df-convert');\n",
              "        buttonEl.style.display =\n",
              "          google.colab.kernel.accessAllowed ? 'block' : 'none';\n",
              "\n",
              "        async function convertToInteractive(key) {\n",
              "          const element = document.querySelector('#df-a30d75c2-ef1a-4806-bc61-7bcdc973ea4d');\n",
              "          const dataTable =\n",
              "            await google.colab.kernel.invokeFunction('convertToInteractive',\n",
              "                                                     [key], {});\n",
              "          if (!dataTable) return;\n",
              "\n",
              "          const docLinkHtml = 'Like what you see? Visit the ' +\n",
              "            '<a target=\"_blank\" href=https://colab.research.google.com/notebooks/data_table.ipynb>data table notebook</a>'\n",
              "            + ' to learn more about interactive tables.';\n",
              "          element.innerHTML = '';\n",
              "          dataTable['output_type'] = 'display_data';\n",
              "          await google.colab.output.renderOutput(dataTable, element);\n",
              "          const docLink = document.createElement('div');\n",
              "          docLink.innerHTML = docLinkHtml;\n",
              "          element.appendChild(docLink);\n",
              "        }\n",
              "      </script>\n",
              "    </div>\n",
              "  </div>\n",
              "  "
            ]
          },
          "metadata": {},
          "execution_count": 55
        }
      ]
    },
    {
      "cell_type": "code",
      "source": [
        "sns.barplot(data=df_TYPE_NAME_size_filtered, y=\"TYPE_NAME\", x=\"TYPE_NAME_Count\")"
      ],
      "metadata": {
        "colab": {
          "base_uri": "https://localhost:8080/",
          "height": 297
        },
        "id": "Mc1bhLPdRyUF",
        "outputId": "8bf235da-9925-4f22-de7a-a1a4f45d9b0b"
      },
      "execution_count": null,
      "outputs": [
        {
          "output_type": "execute_result",
          "data": {
            "text/plain": [
              "<matplotlib.axes._subplots.AxesSubplot at 0x7f2501533110>"
            ]
          },
          "metadata": {},
          "execution_count": 58
        },
        {
          "output_type": "display_data",
          "data": {
            "text/plain": [
              "<Figure size 432x288 with 1 Axes>"
            ],
            "image/png": "[encoded data removed]"
          },
          "metadata": {
            "needs_background": "light"
          }
        }
      ]
    },
    {
      "cell_type": "code",
      "source": [],
      "metadata": {
        "id": "XLhdOovHQt-i"
      },
      "execution_count": null,
      "outputs": []
    },
    {
      "cell_type": "code",
      "source": [],
      "metadata": {
        "id": "xUWNSVZ5Sf-3"
      },
      "execution_count": null,
      "outputs": []
    },
    {
      "cell_type": "code",
      "source": [],
      "metadata": {
        "id": "xfCERW6GSgQl"
      },
      "execution_count": null,
      "outputs": []
    }
  ]
}